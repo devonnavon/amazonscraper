{
 "cells": [
  {
   "cell_type": "code",
   "execution_count": 9,
   "metadata": {},
   "outputs": [
    {
     "data": {
      "text/plain": [
       "<module 'search.search' from '/Users/devonnavon/Code/noshi/indexer/search/search.py'>"
      ]
     },
     "execution_count": 9,
     "metadata": {},
     "output_type": "execute_result"
    }
   ],
   "source": [
    "import pandas as pd\n",
    "import requests\n",
    "import sys\n",
    "from bs4 import BeautifulSoup as bs\n",
    "import time\n",
    "import multiprocessing \n",
    "import threading\n",
    "\n",
    "from importlib import reload #for changes in helpers\n",
    "from search import page, search\n",
    "reload(search)"
   ]
  },
  {
   "cell_type": "code",
   "execution_count": 18,
   "metadata": {},
   "outputs": [],
   "source": [
    "#initialize search, run, display products\n",
    "s = search.Search('laptop')\n",
    "s.run()\n",
    "\n",
    "print('Threads:\\t',s.qcount)\n",
    "print('Pages:\\t\\t', s.page_count)\n",
    "print('Run Time:\\t',s.run_time)"
   ]
  },
  {
   "cell_type": "code",
   "execution_count": 23,
   "metadata": {},
   "outputs": [
    {
     "data": {
      "text/html": [
       "<div>\n",
       "<style scoped>\n",
       "    .dataframe tbody tr th:only-of-type {\n",
       "        vertical-align: middle;\n",
       "    }\n",
       "\n",
       "    .dataframe tbody tr th {\n",
       "        vertical-align: top;\n",
       "    }\n",
       "\n",
       "    .dataframe thead th {\n",
       "        text-align: right;\n",
       "    }\n",
       "</style>\n",
       "<table border=\"1\" class=\"dataframe\">\n",
       "  <thead>\n",
       "    <tr style=\"text-align: right;\">\n",
       "      <th></th>\n",
       "      <th>amazon_id</th>\n",
       "      <th>name</th>\n",
       "      <th>price</th>\n",
       "      <th>is_sponsored</th>\n",
       "    </tr>\n",
       "  </thead>\n",
       "  <tbody>\n",
       "    <tr>\n",
       "      <td>0</td>\n",
       "      <td>B0791YBJGZ</td>\n",
       "      <td>None</td>\n",
       "      <td>$209.99</td>\n",
       "      <td>True</td>\n",
       "    </tr>\n",
       "    <tr>\n",
       "      <td>1</td>\n",
       "      <td>B07GM2J11Q</td>\n",
       "      <td>None</td>\n",
       "      <td>$246.99</td>\n",
       "      <td>True</td>\n",
       "    </tr>\n",
       "    <tr>\n",
       "      <td>2</td>\n",
       "      <td>B07RF2123Z</td>\n",
       "      <td>None</td>\n",
       "      <td>$484.47</td>\n",
       "      <td>True</td>\n",
       "    </tr>\n",
       "    <tr>\n",
       "      <td>3</td>\n",
       "      <td>B07WMDV7CW</td>\n",
       "      <td>None</td>\n",
       "      <td>$219.13</td>\n",
       "      <td>True</td>\n",
       "    </tr>\n",
       "    <tr>\n",
       "      <td>4</td>\n",
       "      <td>B07Q147J19</td>\n",
       "      <td>None</td>\n",
       "      <td>$234.00</td>\n",
       "      <td>True</td>\n",
       "    </tr>\n",
       "    <tr>\n",
       "      <td>...</td>\n",
       "      <td>...</td>\n",
       "      <td>...</td>\n",
       "      <td>...</td>\n",
       "      <td>...</td>\n",
       "    </tr>\n",
       "    <tr>\n",
       "      <td>421</td>\n",
       "      <td>B07FSFRWS4</td>\n",
       "      <td>None</td>\n",
       "      <td>$194.63</td>\n",
       "      <td>True</td>\n",
       "    </tr>\n",
       "    <tr>\n",
       "      <td>422</td>\n",
       "      <td>B07RF1XD36</td>\n",
       "      <td>None</td>\n",
       "      <td>$336.90</td>\n",
       "      <td>True</td>\n",
       "    </tr>\n",
       "    <tr>\n",
       "      <td>423</td>\n",
       "      <td>B07HKBDFQX</td>\n",
       "      <td>None</td>\n",
       "      <td>$422.00</td>\n",
       "      <td>True</td>\n",
       "    </tr>\n",
       "    <tr>\n",
       "      <td>424</td>\n",
       "      <td>B07VXHB9QL</td>\n",
       "      <td>None</td>\n",
       "      <td>$1,264.18</td>\n",
       "      <td>True</td>\n",
       "    </tr>\n",
       "    <tr>\n",
       "      <td>425</td>\n",
       "      <td>B07RJW9X6J</td>\n",
       "      <td>None</td>\n",
       "      <td>$339.99</td>\n",
       "      <td>True</td>\n",
       "    </tr>\n",
       "  </tbody>\n",
       "</table>\n",
       "<p>426 rows × 4 columns</p>\n",
       "</div>"
      ],
      "text/plain": [
       "      amazon_id  name      price  is_sponsored\n",
       "0    B0791YBJGZ  None    $209.99          True\n",
       "1    B07GM2J11Q  None    $246.99          True\n",
       "2    B07RF2123Z  None    $484.47          True\n",
       "3    B07WMDV7CW  None    $219.13          True\n",
       "4    B07Q147J19  None    $234.00          True\n",
       "..          ...   ...        ...           ...\n",
       "421  B07FSFRWS4  None    $194.63          True\n",
       "422  B07RF1XD36  None    $336.90          True\n",
       "423  B07HKBDFQX  None    $422.00          True\n",
       "424  B07VXHB9QL  None  $1,264.18          True\n",
       "425  B07RJW9X6J  None    $339.99          True\n",
       "\n",
       "[426 rows x 4 columns]"
      ]
     },
     "execution_count": 23,
     "metadata": {},
     "output_type": "execute_result"
    }
   ],
   "source": [
    "pd.DataFrame(s.results)"
   ]
  },
  {
   "cell_type": "code",
   "execution_count": null,
   "metadata": {},
   "outputs": [],
   "source": []
  }
 ],
 "metadata": {
  "kernelspec": {
   "display_name": "Python 3",
   "language": "python",
   "name": "python3"
  },
  "language_info": {
   "codemirror_mode": {
    "name": "ipython",
    "version": 3
   },
   "file_extension": ".py",
   "mimetype": "text/x-python",
   "name": "python",
   "nbconvert_exporter": "python",
   "pygments_lexer": "ipython3",
   "version": "3.7.4"
  }
 },
 "nbformat": 4,
 "nbformat_minor": 4
}
