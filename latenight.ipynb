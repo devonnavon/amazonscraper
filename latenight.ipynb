{
 "cells": [
  {
   "cell_type": "code",
   "execution_count": 138,
   "metadata": {},
   "outputs": [
    {
     "data": {
      "text/plain": [
       "<module 'lib' from '/Users/devonnavon/Code/noshi/indexer/lib/__init__.py'>"
      ]
     },
     "execution_count": 138,
     "metadata": {},
     "output_type": "execute_result"
    }
   ],
   "source": [
    "import pandas as pd\n",
    "import requests\n",
    "import sys\n",
    "from bs4 import BeautifulSoup as bs\n",
    "import time\n",
    "import multiprocessing \n",
    "import threading\n",
    "import re\n",
    "\n",
    "from importlib import reload #for changes in helpers\n",
    "import processor\n",
    "reload(processor)\n",
    "reload(processor.lib)"
   ]
  },
  {
   "cell_type": "markdown",
   "metadata": {},
   "source": [
    "<h3>Initialize <b>Search</b> and <b>Runner</b> objects</h3>"
   ]
  },
  {
   "cell_type": "code",
   "execution_count": 54,
   "metadata": {},
   "outputs": [],
   "source": [
    "search  = processor.Search()\n",
    "search_runner = processor.Runner(search)"
   ]
  },
  {
   "cell_type": "markdown",
   "metadata": {},
   "source": [
    "<li>Run search on 20 pages, extract amazon_ids</li>"
   ]
  },
  {
   "cell_type": "code",
   "execution_count": 55,
   "metadata": {},
   "outputs": [
    {
     "name": "stdout",
     "output_type": "stream",
     "text": [
      "{'queue_count': 20, 'time_elapsed': 5.585904836654663, 'run_time': 1577747434.692586}\n",
      "Results:\t 546 \n",
      "Filtered:\t 327\n"
     ]
    }
   ],
   "source": [
    "search_run_info = search_runner.run(range(1,20+1),'backpacking+backpack')\n",
    "search_results = search_runner.get_results()\n",
    "ids = list(set([x['amazon_id'] for x in search_results]))\n",
    "print(search_run_info)\n",
    "print('Results:\\t',len(search_results),'\\nFiltered:\\t',len(ids))"
   ]
  },
  {
   "cell_type": "markdown",
   "metadata": {},
   "source": [
    "<h3>Initialize <b>Product</b> and <b>Runner</b> objects</h3>"
   ]
  },
  {
   "cell_type": "code",
   "execution_count": 130,
   "metadata": {},
   "outputs": [],
   "source": [
    "product  = processor.Product()\n",
    "product_runner = processor.Runner(product)"
   ]
  },
  {
   "cell_type": "code",
   "execution_count": 139,
   "metadata": {},
   "outputs": [
    {
     "name": "stderr",
     "output_type": "stream",
     "text": [
      "Exception in thread Thread-198:\n",
      "Traceback (most recent call last):\n",
      "  File \"/Users/devonnavon/anaconda3/lib/python3.7/threading.py\", line 926, in _bootstrap_inner\n",
      "    self.run()\n",
      "  File \"/Users/devonnavon/anaconda3/lib/python3.7/threading.py\", line 870, in run\n",
      "    self._target(*self._args, **self._kwargs)\n",
      "  File \"/Users/devonnavon/Code/noshi/indexer/processor/__init__.py\", line 126, in put_page\n",
      "    info = self.page.get_info()\n",
      "  File \"/Users/devonnavon/Code/noshi/indexer/processor/__init__.py\", line 98, in get_info\n",
      "    name = self.soup.find('span', attrs={'id':'productTitle'}).text.strip()\n",
      "AttributeError: 'NoneType' object has no attribute 'text'\n",
      "\n",
      "Exception in thread Thread-196:\n",
      "Traceback (most recent call last):\n",
      "  File \"/Users/devonnavon/anaconda3/lib/python3.7/threading.py\", line 926, in _bootstrap_inner\n",
      "    self.run()\n",
      "  File \"/Users/devonnavon/anaconda3/lib/python3.7/threading.py\", line 870, in run\n",
      "    self._target(*self._args, **self._kwargs)\n",
      "  File \"/Users/devonnavon/Code/noshi/indexer/processor/__init__.py\", line 126, in put_page\n",
      "    info = self.page.get_info()\n",
      "  File \"/Users/devonnavon/Code/noshi/indexer/processor/__init__.py\", line 98, in get_info\n",
      "    name = self.soup.find('span', attrs={'id':'productTitle'}).text.strip()\n",
      "AttributeError: 'NoneType' object has no attribute 'text'\n",
      "\n",
      "Exception in thread Thread-197:\n",
      "Traceback (most recent call last):\n",
      "  File \"/Users/devonnavon/anaconda3/lib/python3.7/threading.py\", line 926, in _bootstrap_inner\n",
      "    self.run()\n",
      "  File \"/Users/devonnavon/anaconda3/lib/python3.7/threading.py\", line 870, in run\n",
      "    self._target(*self._args, **self._kwargs)\n",
      "  File \"/Users/devonnavon/Code/noshi/indexer/processor/__init__.py\", line 126, in put_page\n",
      "    info = self.page.get_info()\n",
      "  File \"/Users/devonnavon/Code/noshi/indexer/processor/__init__.py\", line 98, in get_info\n",
      "    name = self.soup.find('span', attrs={'id':'productTitle'}).text.strip()\n",
      "AttributeError: 'NoneType' object has no attribute 'text'\n",
      "\n",
      "Exception in thread Thread-201:\n",
      "Traceback (most recent call last):\n",
      "  File \"/Users/devonnavon/anaconda3/lib/python3.7/threading.py\", line 926, in _bootstrap_inner\n",
      "    self.run()\n",
      "  File \"/Users/devonnavon/anaconda3/lib/python3.7/threading.py\", line 870, in run\n",
      "    self._target(*self._args, **self._kwargs)\n",
      "  File \"/Users/devonnavon/Code/noshi/indexer/processor/__init__.py\", line 126, in put_page\n",
      "    info = self.page.get_info()\n",
      "  File \"/Users/devonnavon/Code/noshi/indexer/processor/__init__.py\", line 98, in get_info\n",
      "    name = self.soup.find('span', attrs={'id':'productTitle'}).text.strip()\n",
      "AttributeError: 'NoneType' object has no attribute 'text'\n",
      "\n",
      "Exception in thread Thread-205:\n",
      "Traceback (most recent call last):\n",
      "  File \"/Users/devonnavon/anaconda3/lib/python3.7/threading.py\", line 926, in _bootstrap_inner\n",
      "    self.run()\n",
      "  File \"/Users/devonnavon/anaconda3/lib/python3.7/threading.py\", line 870, in run\n",
      "    self._target(*self._args, **self._kwargs)\n",
      "  File \"/Users/devonnavon/Code/noshi/indexer/processor/__init__.py\", line 126, in put_page\n",
      "    info = self.page.get_info()\n",
      "  File \"/Users/devonnavon/Code/noshi/indexer/processor/__init__.py\", line 98, in get_info\n",
      "    name = self.soup.find('span', attrs={'id':'productTitle'}).text.strip()\n",
      "AttributeError: 'NoneType' object has no attribute 'text'\n",
      "\n",
      "Exception in thread Thread-206:\n",
      "Traceback (most recent call last):\n",
      "  File \"/Users/devonnavon/anaconda3/lib/python3.7/threading.py\", line 926, in _bootstrap_inner\n",
      "    self.run()\n",
      "  File \"/Users/devonnavon/anaconda3/lib/python3.7/threading.py\", line 870, in run\n",
      "    self._target(*self._args, **self._kwargs)\n",
      "  File \"/Users/devonnavon/Code/noshi/indexer/processor/__init__.py\", line 126, in put_page\n",
      "    info = self.page.get_info()\n",
      "  File \"/Users/devonnavon/Code/noshi/indexer/processor/__init__.py\", line 98, in get_info\n",
      "    name = self.soup.find('span', attrs={'id':'productTitle'}).text.strip()\n",
      "AttributeError: 'NoneType' object has no attribute 'text'\n",
      "\n",
      "Exception in thread Thread-208:\n",
      "Traceback (most recent call last):\n",
      "  File \"/Users/devonnavon/anaconda3/lib/python3.7/threading.py\", line 926, in _bootstrap_inner\n",
      "    self.run()\n",
      "  File \"/Users/devonnavon/anaconda3/lib/python3.7/threading.py\", line 870, in run\n",
      "    self._target(*self._args, **self._kwargs)\n",
      "  File \"/Users/devonnavon/Code/noshi/indexer/processor/__init__.py\", line 126, in put_page\n",
      "    info = self.page.get_info()\n",
      "  File \"/Users/devonnavon/Code/noshi/indexer/processor/__init__.py\", line 98, in get_info\n",
      "    name = self.soup.find('span', attrs={'id':'productTitle'}).text.strip()\n",
      "AttributeError: 'NoneType' object has no attribute 'text'\n",
      "\n",
      "Exception in thread Thread-215:\n",
      "Traceback (most recent call last):\n",
      "  File \"/Users/devonnavon/anaconda3/lib/python3.7/threading.py\", line 926, in _bootstrap_inner\n",
      "    self.run()\n",
      "  File \"/Users/devonnavon/anaconda3/lib/python3.7/threading.py\", line 870, in run\n",
      "    self._target(*self._args, **self._kwargs)\n",
      "  File \"/Users/devonnavon/Code/noshi/indexer/processor/__init__.py\", line 126, in put_page\n",
      "    info = self.page.get_info()\n",
      "  File \"/Users/devonnavon/Code/noshi/indexer/processor/__init__.py\", line 98, in get_info\n",
      "    name = self.soup.find('span', attrs={'id':'productTitle'}).text.strip()\n",
      "AttributeError: 'NoneType' object has no attribute 'text'\n",
      "\n",
      "Exception in thread Thread-214:\n",
      "Traceback (most recent call last):\n",
      "  File \"/Users/devonnavon/anaconda3/lib/python3.7/threading.py\", line 926, in _bootstrap_inner\n",
      "    self.run()\n",
      "  File \"/Users/devonnavon/anaconda3/lib/python3.7/threading.py\", line 870, in run\n",
      "    self._target(*self._args, **self._kwargs)\n",
      "  File \"/Users/devonnavon/Code/noshi/indexer/processor/__init__.py\", line 126, in put_page\n",
      "    info = self.page.get_info()\n",
      "  File \"/Users/devonnavon/Code/noshi/indexer/processor/__init__.py\", line 98, in get_info\n",
      "    name = self.soup.find('span', attrs={'id':'productTitle'}).text.strip()\n",
      "AttributeError: 'NoneType' object has no attribute 'text'\n",
      "\n",
      "Exception in thread Thread-210:\n",
      "Traceback (most recent call last):\n",
      "  File \"/Users/devonnavon/anaconda3/lib/python3.7/threading.py\", line 926, in _bootstrap_inner\n",
      "    self.run()\n",
      "  File \"/Users/devonnavon/anaconda3/lib/python3.7/threading.py\", line 870, in run\n",
      "    self._target(*self._args, **self._kwargs)\n",
      "  File \"/Users/devonnavon/Code/noshi/indexer/processor/__init__.py\", line 126, in put_page\n",
      "    info = self.page.get_info()\n",
      "  File \"/Users/devonnavon/Code/noshi/indexer/processor/__init__.py\", line 98, in get_info\n",
      "    name = self.soup.find('span', attrs={'id':'productTitle'}).text.strip()\n",
      "AttributeError: 'NoneType' object has no attribute 'text'\n",
      "\n",
      "Exception in thread Thread-212:\n",
      "Traceback (most recent call last):\n",
      "  File \"/Users/devonnavon/anaconda3/lib/python3.7/threading.py\", line 926, in _bootstrap_inner\n",
      "    self.run()\n",
      "  File \"/Users/devonnavon/anaconda3/lib/python3.7/threading.py\", line 870, in run\n",
      "    self._target(*self._args, **self._kwargs)\n",
      "  File \"/Users/devonnavon/Code/noshi/indexer/processor/__init__.py\", line 126, in put_page\n",
      "    info = self.page.get_info()\n",
      "  File \"/Users/devonnavon/Code/noshi/indexer/processor/__init__.py\", line 98, in get_info\n",
      "    name = self.soup.find('span', attrs={'id':'productTitle'}).text.strip()\n",
      "AttributeError: 'NoneType' object has no attribute 'text'\n",
      "\n",
      "Exception in thread Thread-202:\n",
      "Traceback (most recent call last):\n",
      "  File \"/Users/devonnavon/anaconda3/lib/python3.7/threading.py\", line 926, in _bootstrap_inner\n",
      "    self.run()\n",
      "  File \"/Users/devonnavon/anaconda3/lib/python3.7/threading.py\", line 870, in run\n",
      "    self._target(*self._args, **self._kwargs)\n",
      "  File \"/Users/devonnavon/Code/noshi/indexer/processor/__init__.py\", line 126, in put_page\n",
      "    info = self.page.get_info()\n",
      "  File \"/Users/devonnavon/Code/noshi/indexer/processor/__init__.py\", line 98, in get_info\n",
      "    name = self.soup.find('span', attrs={'id':'productTitle'}).text.strip()\n",
      "AttributeError: 'NoneType' object has no attribute 'text'\n",
      "\n",
      "Exception in thread Thread-200:\n",
      "Traceback (most recent call last):\n",
      "  File \"/Users/devonnavon/anaconda3/lib/python3.7/threading.py\", line 926, in _bootstrap_inner\n",
      "    self.run()\n",
      "  File \"/Users/devonnavon/anaconda3/lib/python3.7/threading.py\", line 870, in run\n",
      "    self._target(*self._args, **self._kwargs)\n",
      "  File \"/Users/devonnavon/Code/noshi/indexer/processor/__init__.py\", line 126, in put_page\n",
      "    info = self.page.get_info()\n",
      "  File \"/Users/devonnavon/Code/noshi/indexer/processor/__init__.py\", line 98, in get_info\n",
      "    name = self.soup.find('span', attrs={'id':'productTitle'}).text.strip()\n",
      "AttributeError: 'NoneType' object has no attribute 'text'\n",
      "\n",
      "Exception in thread Thread-207:\n",
      "Traceback (most recent call last):\n",
      "  File \"/Users/devonnavon/anaconda3/lib/python3.7/threading.py\", line 926, in _bootstrap_inner\n",
      "    self.run()\n",
      "  File \"/Users/devonnavon/anaconda3/lib/python3.7/threading.py\", line 870, in run\n",
      "    self._target(*self._args, **self._kwargs)\n",
      "  File \"/Users/devonnavon/Code/noshi/indexer/processor/__init__.py\", line 126, in put_page\n",
      "    info = self.page.get_info()\n",
      "  File \"/Users/devonnavon/Code/noshi/indexer/processor/__init__.py\", line 98, in get_info\n",
      "    name = self.soup.find('span', attrs={'id':'productTitle'}).text.strip()\n",
      "AttributeError: 'NoneType' object has no attribute 'text'\n",
      "\n",
      "Exception in thread Thread-204:\n",
      "Traceback (most recent call last):\n",
      "  File \"/Users/devonnavon/anaconda3/lib/python3.7/threading.py\", line 926, in _bootstrap_inner\n",
      "    self.run()\n",
      "  File \"/Users/devonnavon/anaconda3/lib/python3.7/threading.py\", line 870, in run\n",
      "    self._target(*self._args, **self._kwargs)\n",
      "  File \"/Users/devonnavon/Code/noshi/indexer/processor/__init__.py\", line 126, in put_page\n",
      "    info = self.page.get_info()\n",
      "  File \"/Users/devonnavon/Code/noshi/indexer/processor/__init__.py\", line 98, in get_info\n",
      "    name = self.soup.find('span', attrs={'id':'productTitle'}).text.strip()\n",
      "AttributeError: 'NoneType' object has no attribute 'text'\n",
      "\n",
      "Exception in thread Thread-209:\n",
      "Traceback (most recent call last):\n",
      "  File \"/Users/devonnavon/anaconda3/lib/python3.7/threading.py\", line 926, in _bootstrap_inner\n",
      "    self.run()\n",
      "  File \"/Users/devonnavon/anaconda3/lib/python3.7/threading.py\", line 870, in run\n",
      "    self._target(*self._args, **self._kwargs)\n",
      "  File \"/Users/devonnavon/Code/noshi/indexer/processor/__init__.py\", line 126, in put_page\n",
      "    info = self.page.get_info()\n",
      "  File \"/Users/devonnavon/Code/noshi/indexer/processor/__init__.py\", line 98, in get_info\n",
      "    name = self.soup.find('span', attrs={'id':'productTitle'}).text.strip()\n",
      "AttributeError: 'NoneType' object has no attribute 'text'\n",
      "\n",
      "Exception in thread Thread-213:\n",
      "Traceback (most recent call last):\n",
      "  File \"/Users/devonnavon/anaconda3/lib/python3.7/threading.py\", line 926, in _bootstrap_inner\n",
      "    self.run()\n",
      "  File \"/Users/devonnavon/anaconda3/lib/python3.7/threading.py\", line 870, in run\n",
      "    self._target(*self._args, **self._kwargs)\n",
      "  File \"/Users/devonnavon/Code/noshi/indexer/processor/__init__.py\", line 126, in put_page\n",
      "    info = self.page.get_info()\n",
      "  File \"/Users/devonnavon/Code/noshi/indexer/processor/__init__.py\", line 98, in get_info\n",
      "    name = self.soup.find('span', attrs={'id':'productTitle'}).text.strip()\n",
      "AttributeError: 'NoneType' object has no attribute 'text'\n",
      "\n",
      "Exception in thread Thread-211:\n",
      "Traceback (most recent call last):\n",
      "  File \"/Users/devonnavon/anaconda3/lib/python3.7/threading.py\", line 926, in _bootstrap_inner\n",
      "    self.run()\n",
      "  File \"/Users/devonnavon/anaconda3/lib/python3.7/threading.py\", line 870, in run\n",
      "    self._target(*self._args, **self._kwargs)\n",
      "  File \"/Users/devonnavon/Code/noshi/indexer/processor/__init__.py\", line 126, in put_page\n",
      "    info = self.page.get_info()\n",
      "  File \"/Users/devonnavon/Code/noshi/indexer/processor/__init__.py\", line 98, in get_info\n",
      "    name = self.soup.find('span', attrs={'id':'productTitle'}).text.strip()\n",
      "AttributeError: 'NoneType' object has no attribute 'text'\n",
      "\n"
     ]
    },
    {
     "name": "stdout",
     "output_type": "stream",
     "text": [
      "{'queue_count': 2, 'time_elapsed': 2.614090919494629, 'run_time': 1577750300.105452}\n"
     ]
    }
   ],
   "source": [
    "product_runner = processor.Runner(product)\n",
    "product_run_info = product_runner.run(ids[:20])\n",
    "product_results = product_runner.get_results()\n",
    "print(product_run_info)"
   ]
  },
  {
   "cell_type": "code",
   "execution_count": 137,
   "metadata": {},
   "outputs": [
    {
     "data": {
      "text/plain": [
       "[{'name': \"The North Face Borealis Men's Backpack\",\n",
       "  'seller': 'The North Face',\n",
       "  'price': '$81.99 - $173.57',\n",
       "  'asin': 'B01NBYP217'},\n",
       " {'name': \"Osprey Packs Eja 38 Women's Backpacking Backpack\",\n",
       "  'seller': 'Osprey',\n",
       "  'price': '$179.95',\n",
       "  'asin': 'B07PMP7MPG'},\n",
       " {'name': 'ICONNTECHS IT 50L Durable Travel Hiking Backpack, Great Backpacking Gear or Pack for Camping/Hiking',\n",
       "  'seller': 'ICONNTECHS IT',\n",
       "  'price': None,\n",
       "  'asin': 'B074DVSYJQ'},\n",
       " {'name': 'Gold Armour 17 Pieces Camping Cookware Mess Kit Backpacking Gear and Hiking Outdoors Bug Out Bag Cooking Equipment Cookset | Lightweight, Compact, Durable Pot Pan Bowls (Orange)',\n",
       "  'seller': 'Gold Armour',\n",
       "  'price': None,\n",
       "  'asin': None},\n",
       " {'name': \"Osprey Packs Fairview 55 Women's Travel Backpack\",\n",
       "  'seller': 'Osprey',\n",
       "  'price': '$140.14 - $180.00',\n",
       "  'asin': 'B073QQR4C2'},\n",
       " {'name': \"Osprey Packs Atmos AG 50 Men's Backpacking Backpack\",\n",
       "  'seller': 'Osprey',\n",
       "  'price': '$237.00 - $239.95',\n",
       "  'asin': 'B07GTM4Z39'},\n",
       " {'name': 'Fjallraven - Keb 72',\n",
       "  'seller': '',\n",
       "  'price': '$59.49 - $264.00',\n",
       "  'asin': None},\n",
       " {'name': 'Odoland Camping Cookware Stove Carabiner Canister Stand Tripod and Stainless Steel Cup, Tank Bracket, Fork Knife Spoon Kit for Backpacking, Outdoor Camping Hiking and Picnic',\n",
       "  'seller': 'Odoland',\n",
       "  'price': None,\n",
       "  'asin': 'B01MS07XPL'},\n",
       " {'name': 'QUICK-UP Hiking Backpack 65L Internal Frame, High-Performance Daypack for Camping Traveling Trekking, Sewn-in Rain Cover',\n",
       "  'seller': 'QUICK-UP',\n",
       "  'price': None,\n",
       "  'asin': None},\n",
       " {'name': 'NACATIN Internal Frame 70L Backpack Water-Resistant Hiking Daypack Backpacks',\n",
       "  'seller': 'NACATIN',\n",
       "  'price': None,\n",
       "  'asin': None},\n",
       " {'name': 'Aveler 50L Unisex Lightweight Nylon Internal Frame Backpack; High-Performance Backpack for Travel, Hiking, Camping',\n",
       "  'seller': 'Aveler',\n",
       "  'price': '$44.95',\n",
       "  'asin': None},\n",
       " {'name': 'yodo Lightweight 2 Person Camping Backpacking Tent with Carry Bag, Multi',\n",
       "  'seller': 'yodo',\n",
       "  'price': None,\n",
       "  'asin': 'B072QZ36K5'},\n",
       " {'name': 'Jund 80L Waterproof Camo Tactical Backpack Military Army Hiking Camping Backpack Travel Rucksack Outdoor Sports Climbing Bag',\n",
       "  'seller': 'Jund',\n",
       "  'price': '$38.99',\n",
       "  'asin': 'B0819LCS64'},\n",
       " {'name': \"WINNER OUTFITTERS Mummy Sleeping Bag with Compression Sack, It's Portable and Lightweight for 3-4 Season Camping, Hiking, Traveling, Backpacking and Outdoor\",\n",
       "  'seller': 'WINNER OUTFITTERS',\n",
       "  'price': None,\n",
       "  'asin': 'B0778T17MG'},\n",
       " {'name': 'Venture Pal Large 45L Hiking Backpack - Packable Lightweight Travel Backpack Daypack',\n",
       "  'seller': 'Venture Pal',\n",
       "  'price': '$22.99',\n",
       "  'asin': 'B0794PPMXM'},\n",
       " {'name': 'Mardingtop 40L Tactical Backpacks Molle Hiking daypacks for Camping Hiking Military Traveling Motorcycle',\n",
       "  'seller': 'Mardingtop',\n",
       "  'price': '$39.99',\n",
       "  'asin': 'B07WVTX7CD'},\n",
       " {'name': \"Osprey Packs Viva 65 Women's Backpacking Backpack\",\n",
       "  'seller': 'Osprey',\n",
       "  'price': '$219.95',\n",
       "  'asin': 'B07JMK9YL2'},\n",
       " {'name': 'Maxpedition Falcon-II Backpack',\n",
       "  'seller': 'Maxpedition',\n",
       "  'price': '$118.81',\n",
       "  'asin': 'B002D04RQ8'},\n",
       " {'name': 'Featherstone Outdoor 2 Person Backpacking Tent Lightweight for Ultralight 3-Season Camping Hiking and Expeditions',\n",
       "  'seller': 'Featherstone',\n",
       "  'price': None,\n",
       "  'asin': 'B0727Y4XLT'}]"
      ]
     },
     "execution_count": 137,
     "metadata": {},
     "output_type": "execute_result"
    }
   ],
   "source": [
    "# product_runner.t\n",
    "product_results"
   ]
  },
  {
   "cell_type": "code",
   "execution_count": 49,
   "metadata": {},
   "outputs": [
    {
     "data": {
      "text/plain": [
       "['B07GC4F93L',\n",
       " 'B07MJQD8Y8',\n",
       " 'B01MYENR9Z',\n",
       " 'B07DHYC1F3',\n",
       " 'B07DMLMPR3',\n",
       " 'B078RFP1T4',\n",
       " 'B07KFRT3S4',\n",
       " 'B00LM77D1E',\n",
       " 'B01H0RLZ0O',\n",
       " 'B019WZ4MB6',\n",
       " '0762737344',\n",
       " 'B081YJ15DJ',\n",
       " 'B074D3M2L7',\n",
       " 'B07G48ZHLT',\n",
       " 'B07GHWZ5MJ',\n",
       " 'B07Q98HNHQ',\n",
       " 'B07PQ9JRKZ',\n",
       " 'B07PFX7FQW',\n",
       " 'B07RFQJB83',\n",
       " 'B06W2LR3DL',\n",
       " 'B07PHQR6J7',\n",
       " 'B07T6GCNHF',\n",
       " 'B07Q5WCNDJ',\n",
       " 'B07LFP5PLQ']"
      ]
     },
     "execution_count": 49,
     "metadata": {},
     "output_type": "execute_result"
    }
   ],
   "source": [
    "search_test  = processor.Search()\n",
    "search_test.set_args(1, 'backpacking+backpack')\n",
    "#search_test.get_info()\n",
    "ids"
   ]
  },
  {
   "cell_type": "code",
   "execution_count": 134,
   "metadata": {},
   "outputs": [
    {
     "ename": "AttributeError",
     "evalue": "'NoneType' object has no attribute 'text'",
     "output_type": "error",
     "traceback": [
      "\u001b[0;31m---------------------------------------------------------------------------\u001b[0m",
      "\u001b[0;31mAttributeError\u001b[0m                            Traceback (most recent call last)",
      "\u001b[0;32m<ipython-input-134-76e77138ba73>\u001b[0m in \u001b[0;36m<module>\u001b[0;34m\u001b[0m\n\u001b[1;32m      1\u001b[0m \u001b[0mproduct_test\u001b[0m  \u001b[0;34m=\u001b[0m \u001b[0mprocessor\u001b[0m\u001b[0;34m.\u001b[0m\u001b[0mProduct\u001b[0m\u001b[0;34m(\u001b[0m\u001b[0;34m)\u001b[0m\u001b[0;34m\u001b[0m\u001b[0;34m\u001b[0m\u001b[0m\n\u001b[1;32m      2\u001b[0m \u001b[0mproduct_test\u001b[0m\u001b[0;34m.\u001b[0m\u001b[0mset_args\u001b[0m\u001b[0;34m(\u001b[0m\u001b[0;34m'B07G76ZL27'\u001b[0m\u001b[0;34m)\u001b[0m\u001b[0;34m\u001b[0m\u001b[0;34m\u001b[0m\u001b[0m\n\u001b[0;32m----> 3\u001b[0;31m \u001b[0mproduct_test\u001b[0m\u001b[0;34m.\u001b[0m\u001b[0mget_info\u001b[0m\u001b[0;34m(\u001b[0m\u001b[0;34m)\u001b[0m\u001b[0;34m\u001b[0m\u001b[0;34m\u001b[0m\u001b[0m\n\u001b[0m",
      "\u001b[0;32m~/Code/noshi/indexer/processor/__init__.py\u001b[0m in \u001b[0;36mget_info\u001b[0;34m(self)\u001b[0m\n\u001b[1;32m     96\u001b[0m     \u001b[0;32mdef\u001b[0m \u001b[0mget_info\u001b[0m\u001b[0;34m(\u001b[0m\u001b[0mself\u001b[0m\u001b[0;34m)\u001b[0m\u001b[0;34m:\u001b[0m\u001b[0;34m\u001b[0m\u001b[0;34m\u001b[0m\u001b[0m\n\u001b[1;32m     97\u001b[0m         \u001b[0mself\u001b[0m\u001b[0;34m.\u001b[0m\u001b[0mget_soup\u001b[0m\u001b[0;34m(\u001b[0m\u001b[0;34m)\u001b[0m\u001b[0;34m\u001b[0m\u001b[0;34m\u001b[0m\u001b[0m\n\u001b[0;32m---> 98\u001b[0;31m         \u001b[0mname\u001b[0m \u001b[0;34m=\u001b[0m \u001b[0mself\u001b[0m\u001b[0;34m.\u001b[0m\u001b[0msoup\u001b[0m\u001b[0;34m.\u001b[0m\u001b[0mfind\u001b[0m\u001b[0;34m(\u001b[0m\u001b[0;34m'span'\u001b[0m\u001b[0;34m,\u001b[0m \u001b[0mattrs\u001b[0m\u001b[0;34m=\u001b[0m\u001b[0;34m{\u001b[0m\u001b[0;34m'id'\u001b[0m\u001b[0;34m:\u001b[0m\u001b[0;34m'productTitle'\u001b[0m\u001b[0;34m}\u001b[0m\u001b[0;34m)\u001b[0m\u001b[0;34m.\u001b[0m\u001b[0mtext\u001b[0m\u001b[0;34m.\u001b[0m\u001b[0mstrip\u001b[0m\u001b[0;34m(\u001b[0m\u001b[0;34m)\u001b[0m\u001b[0;34m\u001b[0m\u001b[0;34m\u001b[0m\u001b[0m\n\u001b[0m\u001b[1;32m     99\u001b[0m         \u001b[0mseller\u001b[0m \u001b[0;34m=\u001b[0m \u001b[0mself\u001b[0m\u001b[0;34m.\u001b[0m\u001b[0msoup\u001b[0m\u001b[0;34m.\u001b[0m\u001b[0mfind\u001b[0m\u001b[0;34m(\u001b[0m\u001b[0;34m'div'\u001b[0m\u001b[0;34m,\u001b[0m \u001b[0mattrs\u001b[0m\u001b[0;34m=\u001b[0m\u001b[0;34m{\u001b[0m\u001b[0;34m'data-feature-name'\u001b[0m\u001b[0;34m:\u001b[0m\u001b[0;34m'bylineInfo'\u001b[0m\u001b[0;34m}\u001b[0m\u001b[0;34m)\u001b[0m\u001b[0;34m.\u001b[0m\u001b[0mfind\u001b[0m\u001b[0;34m(\u001b[0m\u001b[0;34m'a'\u001b[0m\u001b[0;34m)\u001b[0m\u001b[0;34m.\u001b[0m\u001b[0mtext\u001b[0m\u001b[0;34m\u001b[0m\u001b[0;34m\u001b[0m\u001b[0m\n\u001b[1;32m    100\u001b[0m         \u001b[0mprice\u001b[0m \u001b[0;34m=\u001b[0m \u001b[0mlib\u001b[0m\u001b[0;34m.\u001b[0m\u001b[0mtext\u001b[0m\u001b[0;34m(\u001b[0m\u001b[0mself\u001b[0m\u001b[0;34m.\u001b[0m\u001b[0msoup\u001b[0m\u001b[0;34m.\u001b[0m\u001b[0mfind\u001b[0m\u001b[0;34m(\u001b[0m\u001b[0;34m'span'\u001b[0m\u001b[0;34m,\u001b[0m \u001b[0mattrs\u001b[0m\u001b[0;34m=\u001b[0m\u001b[0;34m{\u001b[0m\u001b[0;34m'id'\u001b[0m\u001b[0;34m:\u001b[0m\u001b[0;34m'priceblock_ourprice'\u001b[0m\u001b[0;34m}\u001b[0m\u001b[0;34m)\u001b[0m\u001b[0;34m)\u001b[0m\u001b[0;34m\u001b[0m\u001b[0;34m\u001b[0m\u001b[0m\n",
      "\u001b[0;31mAttributeError\u001b[0m: 'NoneType' object has no attribute 'text'"
     ]
    }
   ],
   "source": [
    "product_test  = processor.Product()\n",
    "product_test.set_args('B07G76ZL27')\n",
    "product_test.get_info()"
   ]
  },
  {
   "cell_type": "code",
   "execution_count": 136,
   "metadata": {},
   "outputs": [
    {
     "data": {
      "text/plain": [
       "<!DOCTYPE html>\n",
       "<!--[if lt IE 7]> <html lang=\"en-us\" class=\"a-no-js a-lt-ie9 a-lt-ie8 a-lt-ie7\"> <![endif]--><!--[if IE 7]>    <html lang=\"en-us\" class=\"a-no-js a-lt-ie9 a-lt-ie8\"> <![endif]--><!--[if IE 8]>    <html lang=\"en-us\" class=\"a-no-js a-lt-ie9\"> <![endif]--><!--[if gt IE 8]><!--><html class=\"a-no-js\" lang=\"en-us\"><!--<![endif]--><head>\n",
       "<meta content=\"text/html; charset=utf-8\" http-equiv=\"content-type\"/>\n",
       "<meta charset=\"utf-8\"/>\n",
       "<meta content=\"IE=edge,chrome=1\" http-equiv=\"X-UA-Compatible\"/>\n",
       "<title dir=\"ltr\">Robot Check</title>\n",
       "<meta content=\"width=device-width\" name=\"viewport\"/>\n",
       "<link href=\"https://images-na.ssl-images-amazon.com/images/G/01/AUIClients/AmazonUI-3c913031596ca78a3768f4e934b1cc02ce238101.secure.min._V1_.css\" rel=\"stylesheet\"/>\n",
       "<script>\n",
       "\n",
       "if (true === true) {\n",
       "    var ue_t0 = (+ new Date()),\n",
       "        ue_csm = window,\n",
       "        ue = { t0: ue_t0, d: function() { return (+new Date() - ue_t0); } },\n",
       "        ue_furl = \"fls-na.amazon.com\",\n",
       "        ue_mid = \"ATVPDKIKX0DER\",\n",
       "        ue_sid = (document.cookie.match(/session-id=([0-9-]+)/) || [])[1],\n",
       "        ue_sn = \"opfcaptcha.amazon.com\",\n",
       "        ue_id = '9DX2W6GHWCDX0931MNNZ';\n",
       "}\n",
       "</script>\n",
       "</head>\n",
       "<body>\n",
       "<!--\n",
       "        To discuss automated access to Amazon data please contact api-services-support@amazon.com.\n",
       "        For information about migrating to our APIs refer to our Marketplace APIs at https://developer.amazonservices.com/ref=rm_c_sv, or our Product Advertising API at https://affiliate-program.amazon.com/gp/advertising/api/detail/main.html/ref=rm_c_ac for advertising use cases.\n",
       "-->\n",
       "<!--\n",
       "Correios.DoNotSend\n",
       "-->\n",
       "<div class=\"a-container a-padding-double-large\" style=\"min-width:350px;padding:44px 0 !important\">\n",
       "<div class=\"a-row a-spacing-double-large\" style=\"width: 350px; margin: 0 auto\">\n",
       "<div class=\"a-row a-spacing-medium a-text-center\"><i class=\"a-icon a-logo\"></i></div>\n",
       "<div class=\"a-box a-alert a-alert-info a-spacing-base\">\n",
       "<div class=\"a-box-inner\">\n",
       "<i class=\"a-icon a-icon-alert\"></i>\n",
       "<h4>Enter the characters you see below</h4>\n",
       "<p class=\"a-last\">Sorry, we just need to make sure you're not a robot. For best results, please make sure your browser is accepting cookies.</p>\n",
       "</div>\n",
       "</div>\n",
       "<div class=\"a-section\">\n",
       "<div class=\"a-box a-color-offset-background\">\n",
       "<div class=\"a-box-inner a-padding-extra-large\">\n",
       "<form action=\"/errors/validateCaptcha\" method=\"get\" name=\"\">\n",
       "<input name=\"amzn\" type=\"hidden\" value=\"AE+FbzVD79fbS2N96sbKhw==\"/><input name=\"amzn-r\" type=\"hidden\" value=\"/dp/B07G76ZL27\"/>\n",
       "<div class=\"a-row a-spacing-large\">\n",
       "<div class=\"a-box\">\n",
       "<div class=\"a-box-inner\">\n",
       "<h4>Type the characters you see in this image:</h4>\n",
       "<div class=\"a-row a-text-center\">\n",
       "<img src=\"https://images-na.ssl-images-amazon.com/captcha/kwizfixk/Captcha_ttjdqscmqk.jpg\"/>\n",
       "</div>\n",
       "<div class=\"a-row a-spacing-base\">\n",
       "<div class=\"a-row\">\n",
       "<div class=\"a-column a-span6\">\n",
       "</div>\n",
       "<div class=\"a-column a-span6 a-span-last a-text-right\">\n",
       "<a onclick=\"window.location.reload()\">Try different image</a>\n",
       "</div>\n",
       "</div>\n",
       "<input autocapitalize=\"off\" autocomplete=\"off\" autocorrect=\"off\" class=\"a-span12\" id=\"captchacharacters\" name=\"field-keywords\" placeholder=\"Type characters\" spellcheck=\"false\" type=\"text\"/>\n",
       "</div>\n",
       "</div>\n",
       "</div>\n",
       "</div>\n",
       "<div class=\"a-section a-spacing-extra-large\">\n",
       "<div class=\"a-row\">\n",
       "<span class=\"a-button a-button-primary a-span12\">\n",
       "<span class=\"a-button-inner\">\n",
       "<button class=\"a-button-text\" type=\"submit\">Continue shopping</button>\n",
       "</span>\n",
       "</span>\n",
       "</div>\n",
       "</div>\n",
       "</form>\n",
       "</div>\n",
       "</div>\n",
       "</div>\n",
       "</div>\n",
       "<div class=\"a-divider a-divider-section\"><div class=\"a-divider-inner\"></div></div>\n",
       "<div class=\"a-text-center a-spacing-small a-size-mini\">\n",
       "<a href=\"https://www.amazon.com/gp/help/customer/display.html/ref=footer_cou?ie=UTF8&amp;nodeId=508088\">Conditions of Use</a>\n",
       "<span class=\"a-letter-space\"></span>\n",
       "<span class=\"a-letter-space\"></span>\n",
       "<span class=\"a-letter-space\"></span>\n",
       "<span class=\"a-letter-space\"></span>\n",
       "<a href=\"https://www.amazon.com/gp/help/customer/display.html/ref=footer_privacy?ie=UTF8&amp;nodeId=468496\">Privacy Policy</a>\n",
       "</div>\n",
       "<div class=\"a-text-center a-size-mini a-color-secondary\">\n",
       "          © 1996-2014, Amazon.com, Inc. or its affiliates\n",
       "          <script>\n",
       "           if (true === true) {\n",
       "             document.write('<img src=\"https://fls-na.amaz'+'on.com/'+'1/oc-csi/1/OP/requestId=9DX2W6GHWCDX0931MNNZ&js=1\" />');\n",
       "           };\n",
       "          </script>\n",
       "<noscript>\n",
       "<img src=\"https://fls-na.amazon.com/1/oc-csi/1/OP/requestId=9DX2W6GHWCDX0931MNNZ&amp;js=0\"/>\n",
       "</noscript>\n",
       "</div>\n",
       "</div>\n",
       "<script>\n",
       "    if (true === true) {\n",
       "        var elem = document.createElement(\"script\");\n",
       "        elem.src = \"https://images-na.ssl-images-amazon.com/images/G/01/csminstrumentation/csm-captcha-instrumentation.min._V\" + (+ new Date()) + \"_.js\";\n",
       "        document.getElementsByTagName('head')[0].appendChild(elem);\n",
       "    }\n",
       "    </script>\n",
       "</body></html>"
      ]
     },
     "execution_count": 136,
     "metadata": {},
     "output_type": "execute_result"
    }
   ],
   "source": [
    "product_test.soup#find('span', attrs={'class': 'a-text-bold'}, text=processor.lib.like('ASIN:')).text"
   ]
  },
  {
   "cell_type": "code",
   "execution_count": 86,
   "metadata": {},
   "outputs": [
    {
     "data": {
      "text/plain": [
       "'\\n                          ASIN\\n                          '"
      ]
     },
     "execution_count": 86,
     "metadata": {},
     "output_type": "execute_result"
    }
   ],
   "source": [
    "product_test.soup.findAll('th',attrs={'class':'a-color-secondary a-size-base prodDetSectionEntry'})[5].text"
   ]
  },
  {
   "cell_type": "code",
   "execution_count": 128,
   "metadata": {},
   "outputs": [
    {
     "data": {
      "text/plain": [
       "'B07GX8J8WP'"
      ]
     },
     "execution_count": 128,
     "metadata": {},
     "output_type": "execute_result"
    }
   ],
   "source": [
    "product_test.soup.find(text='ASIN:\\n                    ').parent.parent.text.split('                    ')[-1].strip()"
   ]
  },
  {
   "cell_type": "code",
   "execution_count": null,
   "metadata": {},
   "outputs": [],
   "source": []
  }
 ],
 "metadata": {
  "kernelspec": {
   "display_name": "Python 3",
   "language": "python",
   "name": "python3"
  },
  "language_info": {
   "codemirror_mode": {
    "name": "ipython",
    "version": 3
   },
   "file_extension": ".py",
   "mimetype": "text/x-python",
   "name": "python",
   "nbconvert_exporter": "python",
   "pygments_lexer": "ipython3",
   "version": "3.7.4"
  }
 },
 "nbformat": 4,
 "nbformat_minor": 4
}
