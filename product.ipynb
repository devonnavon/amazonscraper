{
 "cells": [
  {
   "cell_type": "code",
   "execution_count": 164,
   "metadata": {},
   "outputs": [
    {
     "data": {
      "text/plain": [
       "<module 'search' from '/Users/devonnavon/Code/noshi/indexer/search.py'>"
      ]
     },
     "execution_count": 164,
     "metadata": {},
     "output_type": "execute_result"
    }
   ],
   "source": [
    "import pandas as pd\n",
    "import requests\n",
    "import sys\n",
    "from bs4 import BeautifulSoup as bs\n",
    "import time\n",
    "from multiprocessing import Process, Queue, Pool\n",
    "import threading\n",
    "\n",
    "from importlib import reload #for changes in helpers\n",
    "import search\n",
    "reload(search)"
   ]
  },
  {
   "cell_type": "code",
   "execution_count": 165,
   "metadata": {},
   "outputs": [
    {
     "data": {
      "text/html": [
       "<div>\n",
       "<style scoped>\n",
       "    .dataframe tbody tr th:only-of-type {\n",
       "        vertical-align: middle;\n",
       "    }\n",
       "\n",
       "    .dataframe tbody tr th {\n",
       "        vertical-align: top;\n",
       "    }\n",
       "\n",
       "    .dataframe thead th {\n",
       "        text-align: right;\n",
       "    }\n",
       "</style>\n",
       "<table border=\"1\" class=\"dataframe\">\n",
       "  <thead>\n",
       "    <tr style=\"text-align: right;\">\n",
       "      <th></th>\n",
       "      <th>amazon_id</th>\n",
       "      <th>name</th>\n",
       "      <th>price</th>\n",
       "      <th>is_sponsored</th>\n",
       "    </tr>\n",
       "  </thead>\n",
       "  <tbody>\n",
       "    <tr>\n",
       "      <td>0</td>\n",
       "      <td>B07T6BDN23</td>\n",
       "      <td>Ursack Allmitey Bear Backpack - Bear Bag for B...</td>\n",
       "      <td>$144.95</td>\n",
       "      <td>True</td>\n",
       "    </tr>\n",
       "    <tr>\n",
       "      <td>1</td>\n",
       "      <td>B07S732SFP</td>\n",
       "      <td>Gonex 65L/75L Hiking Internal Frame Backpack f...</td>\n",
       "      <td>$66.99</td>\n",
       "      <td>True</td>\n",
       "    </tr>\n",
       "    <tr>\n",
       "      <td>2</td>\n",
       "      <td>B07S72P9VH</td>\n",
       "      <td>Gonex 45+5L Travel Outdoor Hiking Internal Fra...</td>\n",
       "      <td>$49.99</td>\n",
       "      <td>True</td>\n",
       "    </tr>\n",
       "    <tr>\n",
       "      <td>3</td>\n",
       "      <td>B07S72SCPR</td>\n",
       "      <td>Gonex 70L/80L Hiking Internal Frame Backpack f...</td>\n",
       "      <td>$72.99</td>\n",
       "      <td>True</td>\n",
       "    </tr>\n",
       "    <tr>\n",
       "      <td>4</td>\n",
       "      <td>1400053099</td>\n",
       "      <td>The Backpacker's Field Manual, Revised and Upd...</td>\n",
       "      <td>$7.68</td>\n",
       "      <td>True</td>\n",
       "    </tr>\n",
       "  </tbody>\n",
       "</table>\n",
       "</div>"
      ],
      "text/plain": [
       "    amazon_id                                               name    price  \\\n",
       "0  B07T6BDN23  Ursack Allmitey Bear Backpack - Bear Bag for B...  $144.95   \n",
       "1  B07S732SFP  Gonex 65L/75L Hiking Internal Frame Backpack f...   $66.99   \n",
       "2  B07S72P9VH  Gonex 45+5L Travel Outdoor Hiking Internal Fra...   $49.99   \n",
       "3  B07S72SCPR  Gonex 70L/80L Hiking Internal Frame Backpack f...   $72.99   \n",
       "4  1400053099  The Backpacker's Field Manual, Revised and Upd...    $7.68   \n",
       "\n",
       "   is_sponsored  \n",
       "0          True  \n",
       "1          True  \n",
       "2          True  \n",
       "3          True  \n",
       "4          True  "
      ]
     },
     "execution_count": 165,
     "metadata": {},
     "output_type": "execute_result"
    }
   ],
   "source": [
    "backpack1 = search.SearchPage('backpacking backpack', 1)\n",
    "backpack2 = search.SearchPage('backpacking backpack', 2)\n",
    "\n",
    "products1 = backpack1.get_products()\n",
    "products2 = backpack2.get_products()"
   ]
  },
  {
   "cell_type": "code",
   "execution_count": null,
   "metadata": {},
   "outputs": [],
   "source": [
    "class Search(object)"
   ]
  }
 ],
 "metadata": {
  "kernelspec": {
   "display_name": "Python 3",
   "language": "python",
   "name": "python3"
  },
  "language_info": {
   "codemirror_mode": {
    "name": "ipython",
    "version": 3
   },
   "file_extension": ".py",
   "mimetype": "text/x-python",
   "name": "python",
   "nbconvert_exporter": "python",
   "pygments_lexer": "ipython3",
   "version": "3.7.4"
  }
 },
 "nbformat": 4,
 "nbformat_minor": 4
}
