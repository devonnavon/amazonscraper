{
 "cells": [
  {
   "cell_type": "code",
   "execution_count": 1,
   "metadata": {},
   "outputs": [
    {
     "data": {
      "text/plain": [
       "<module 'search.page' from '/Users/devonnavon/Code/noshi/indexer/search/page.py'>"
      ]
     },
     "execution_count": 1,
     "metadata": {},
     "output_type": "execute_result"
    }
   ],
   "source": [
    "import pandas as pd\n",
    "import requests\n",
    "import sys\n",
    "from bs4 import BeautifulSoup as bs\n",
    "import time\n",
    "import multiprocessing \n",
    "import threading\n",
    "import re\n",
    "\n",
    "from importlib import reload #for changes in helpers\n",
    "from search import page, search\n",
    "from product import product, reviews\n",
    "reload(product)\n",
    "reload(page)"
   ]
  },
  {
   "cell_type": "code",
   "execution_count": 2,
   "metadata": {},
   "outputs": [
    {
     "name": "stdout",
     "output_type": "stream",
     "text": [
      "Threads:\t 19\n",
      "Pages:\t\t 20\n",
      "Run Time:\t 7.8356029987335205\n"
     ]
    }
   ],
   "source": [
    "#initialize search, run, display products\n",
    "s = search.Search('laptop')\n",
    "s.run()\n",
    "\n",
    "print('Threads:\\t',s.qcount)\n",
    "print('Pages:\\t\\t', s.page_count)\n",
    "print('Run Time:\\t',s.run_time)"
   ]
  },
  {
   "cell_type": "code",
   "execution_count": 3,
   "metadata": {},
   "outputs": [],
   "source": [
    "ids = [result['amazon_id'] for result in s.results]"
   ]
  },
  {
   "cell_type": "code",
   "execution_count": 4,
   "metadata": {},
   "outputs": [
    {
     "name": "stdout",
     "output_type": "stream",
     "text": [
      "426\n",
      "297\n"
     ]
    }
   ],
   "source": [
    "print(len(ids))\n",
    "print(len(set(ids)))"
   ]
  },
  {
   "cell_type": "code",
   "execution_count": 5,
   "metadata": {},
   "outputs": [],
   "source": [
    "prod = product.Product('B01IJK19FW')"
   ]
  },
  {
   "cell_type": "code",
   "execution_count": 6,
   "metadata": {},
   "outputs": [
    {
     "data": {
      "text/plain": [
       "{'name': \"Osprey Packs Aether AG 60 Men's Backpacking Backpack\",\n",
       " 'seller': 'Osprey',\n",
       " 'price': '$289.95 - $293.44',\n",
       " 'asin': 'B07QG5WJB1',\n",
       " 'rating': '4.5',\n",
       " 'review_count': '19'}"
      ]
     },
     "execution_count": 6,
     "metadata": {},
     "output_type": "execute_result"
    }
   ],
   "source": [
    "prod.get_info()"
   ]
  },
  {
   "cell_type": "code",
   "execution_count": 154,
   "metadata": {},
   "outputs": [],
   "source": []
  },
  {
   "cell_type": "code",
   "execution_count": 112,
   "metadata": {},
   "outputs": [
    {
     "name": "stdout",
     "output_type": "stream",
     "text": [
      "Product details\n"
     ]
    }
   ],
   "source": [
    "for elem in prod.soup(text=re.compile(r'Product details')):\n",
    "    print(elem)"
   ]
  },
  {
   "cell_type": "code",
   "execution_count": 135,
   "metadata": {},
   "outputs": [],
   "source": [
    "raw_details = prod.soup.find('h2',text=r'Product details').parent"
   ]
  },
  {
   "cell_type": "code",
   "execution_count": 153,
   "metadata": {},
   "outputs": [
    {
     "data": {
      "text/plain": [
       "'18'"
      ]
     },
     "execution_count": 153,
     "metadata": {},
     "output_type": "execute_result"
    }
   ],
   "source": [
    "raw_details.find('span',attrs={'class','a-size-small'}).find('a',attrs={'class','a-link-normal'}).text.strip().split(' customer')[0]"
   ]
  },
  {
   "cell_type": "code",
   "execution_count": 127,
   "metadata": {},
   "outputs": [
    {
     "name": "stdout",
     "output_type": "stream",
     "text": [
      "<li><b>Shipping Information:</b> <a href=\"/gp/help/seller/shipping.html/ref=dp_pd_shipping/130-3803386-5450004?ie=UTF8&amp;asin=B07QG5WJB1&amp;seller=\">View shipping rates and policies</a></li> \n",
      "\n",
      "<li><b><bdi dir=\"ltr\">ASIN</bdi>: </b>B07QG5WJB1</li> \n",
      "\n",
      "<li><b>Item model number:</b> AETHER AG 60</li> \n",
      "\n",
      "<li><b>Average Customer Review:</b>\n",
      "<span class=\"dpProductDetailB07QG5WJB1\">\n",
      "<span class=\"a-declarative\" data-a-popover='{\"closeButton\":\"false\",\"max-width\":\"700\",\"position\":\"triggerBottom\",\"url\":\"/review/widgets/average-customer-review/popover/ref=acr_dpproductdetail_popover/130-3803386-5450004?ie=UTF8&amp;asin=B07QG5WJB1&amp;contextId=dpProductDetail&amp;ref=acr_dpproductdetail_popover\"}' data-action=\"a-popover\">\n",
      "<a class=\"a-popover-trigger a-declarative\" href=\"javascript:void(0)\">\n",
      "</a><a class=\"a-link-normal a-text-normal\" href=\"https://www.amazon.com/product-reviews/B07QG5WJB1/ref=acr_dpproductdetail_text/130-3803386-5450004?ie=UTF8&amp;showViewpoints=1\">\n",
      "<i class=\"a-icon a-icon-star a-star-4-5\"><span class=\"a-icon-alt\">4.4 out of 5 stars</span></i>\n",
      "</a>\n",
      "<i class=\"a-icon a-icon-popover\"></i>\n",
      "</span>\n",
      "<span class=\"a-letter-space\"></span>\n",
      "<span class=\"a-size-small\">\n",
      "<a class=\"a-link-normal\" href=\"https://www.amazon.com/product-reviews/B07QG5WJB1/ref=acr_dpproductdetail_text/130-3803386-5450004?ie=UTF8&amp;showViewpoints=1\">\n",
      "      18 customer reviews\n",
      "    </a>\n",
      "</span>\n",
      "</span>\n",
      "</li> \n",
      "\n",
      "<li id=\"SalesRank\">\n",
      "<b>Amazon Best Sellers Rank:</b> \n",
      "\n",
      "\n",
      "\n",
      "\n",
      "\n",
      "\n",
      "\n",
      "\n",
      "\n",
      "\n",
      "\n",
      "\n",
      "\n",
      "#163,018 in Sports &amp; Outdoors (<a href=\"/gp/bestsellers/sporting-goods/ref=pd_zg_ts_sporting-goods\">See Top 100 in Sports &amp; Outdoors</a>)\n",
      " \n",
      "\n",
      "\n",
      "\n",
      "\n",
      "\n",
      "<style type=\"text/css\">\n",
      ".zg_hrsr { margin: 0; padding: 0; list-style-type: none; }\n",
      ".zg_hrsr_item { margin: 0 0 0 10px; }\n",
      ".zg_hrsr_rank { display: inline-block; width: 80px; text-align: right; }\n",
      "</style>\n",
      "<ul class=\"zg_hrsr\">\n",
      "<li class=\"zg_hrsr_item\">\n",
      "<span class=\"zg_hrsr_rank\">#84</span>\n",
      "<span class=\"zg_hrsr_ladder\">in <a href=\"/gp/bestsellers/sporting-goods/3400491/ref=pd_zg_hrsr_sporting-goods\">Internal Frame Hiking Backpacks</a></span>\n",
      "</li>\n",
      "</ul>\n",
      "</li> \n",
      "\n",
      "<li class=\"zg_hrsr_item\">\n",
      "<span class=\"zg_hrsr_rank\">#84</span>\n",
      "<span class=\"zg_hrsr_ladder\">in <a href=\"/gp/bestsellers/sporting-goods/3400491/ref=pd_zg_hrsr_sporting-goods\">Internal Frame Hiking Backpacks</a></span>\n",
      "</li> \n",
      "\n"
     ]
    }
   ],
   "source": [
    "for x in raw_details:\n",
    "    print(x,'\\n')"
   ]
  },
  {
   "cell_type": "code",
   "execution_count": null,
   "metadata": {},
   "outputs": [],
   "source": []
  }
 ],
 "metadata": {
  "kernelspec": {
   "display_name": "Python 3",
   "language": "python",
   "name": "python3"
  },
  "language_info": {
   "codemirror_mode": {
    "name": "ipython",
    "version": 3
   },
   "file_extension": ".py",
   "mimetype": "text/x-python",
   "name": "python",
   "nbconvert_exporter": "python",
   "pygments_lexer": "ipython3",
   "version": "3.7.4"
  }
 },
 "nbformat": 4,
 "nbformat_minor": 4
}
