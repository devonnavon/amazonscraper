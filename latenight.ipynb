{
 "cells": [
  {
   "cell_type": "code",
   "execution_count": 1,
   "metadata": {},
   "outputs": [
    {
     "data": {
      "text/plain": [
       "<module 'lib' from '/Users/devonnavon/Code/noshi/indexer/lib/__init__.py'>"
      ]
     },
     "execution_count": 1,
     "metadata": {},
     "output_type": "execute_result"
    }
   ],
   "source": [
    "import pandas as pd\n",
    "import requests\n",
    "import sys\n",
    "from bs4 import BeautifulSoup as bs\n",
    "import time\n",
    "import multiprocessing \n",
    "import threading\n",
    "import re\n",
    "\n",
    "from importlib import reload #for changes in helpers\n",
    "import processor\n",
    "reload(processor)\n",
    "reload(processor.lib)"
   ]
  },
  {
   "cell_type": "markdown",
   "metadata": {},
   "source": [
    "<h3>Initialize <b>Search</b> and <b>Runner</b> objects</h3>"
   ]
  },
  {
   "cell_type": "code",
   "execution_count": 2,
   "metadata": {},
   "outputs": [],
   "source": [
    "search  = processor.Search()\n",
    "search_runner = processor.Runner(search)"
   ]
  },
  {
   "cell_type": "markdown",
   "metadata": {},
   "source": [
    "<li>Run search on 20 pages, extract amazon_ids</li>"
   ]
  },
  {
   "cell_type": "code",
   "execution_count": 4,
   "metadata": {},
   "outputs": [
    {
     "name": "stdout",
     "output_type": "stream",
     "text": [
      "{'queue_count': 20, 'time_elapsed': 4.639253854751587, 'run_time': 1577736433.142902}\n",
      "Results:\t 534 \n",
      "Filtered:\t 314\n"
     ]
    }
   ],
   "source": [
    "search_run_info = search_runner.run(range(1,20+1),'backpacking+backpack')\n",
    "search_results = search_runner.get_results()\n",
    "ids = list(set([x['amazon_id'] for x in search_results]))\n",
    "print(search_run_info)\n",
    "print('Results:\\t',len(search_results),'\\nFiltered:\\t',len(ids))"
   ]
  },
  {
   "cell_type": "markdown",
   "metadata": {},
   "source": [
    "<h3>Initialize <b>Product</b> and <b>Runner</b> objects</h3>"
   ]
  },
  {
   "cell_type": "code",
   "execution_count": 5,
   "metadata": {},
   "outputs": [],
   "source": [
    "product  = processor.Product()\n",
    "product_runner = processor.Runner(product)"
   ]
  },
  {
   "cell_type": "code",
   "execution_count": 6,
   "metadata": {},
   "outputs": [
    {
     "name": "stderr",
     "output_type": "stream",
     "text": [
      "Exception in thread Thread-44:\n",
      "Traceback (most recent call last):\n",
      "  File \"/Users/devonnavon/anaconda3/lib/python3.7/threading.py\", line 926, in _bootstrap_inner\n",
      "    self.run()\n",
      "  File \"/Users/devonnavon/anaconda3/lib/python3.7/threading.py\", line 870, in run\n",
      "    self._target(*self._args, **self._kwargs)\n",
      "  File \"/Users/devonnavon/Code/noshi/indexer/processor/__init__.py\", line 126, in put_page\n",
      "    info = self.page.get_info()\n",
      "  File \"/Users/devonnavon/Code/noshi/indexer/processor/__init__.py\", line 90, in get_info\n",
      "    name = self.soup.find('span', attrs={'id':'productTitle'}).text.strip()\n",
      "AttributeError: 'NoneType' object has no attribute 'text'\n",
      "\n"
     ]
    },
    {
     "name": "stdout",
     "output_type": "stream",
     "text": [
      "{'queue_count': 3, 'time_elapsed': 2.607151746749878, 'run_time': 1577736463.490537}\n"
     ]
    }
   ],
   "source": [
    "product_runner = processor.Runner(product)\n",
    "product_run_info = product_runner.run(ids[:4])\n",
    "product_results = product_runner.get_results()\n",
    "print(product_run_info)"
   ]
  },
  {
   "cell_type": "code",
   "execution_count": 7,
   "metadata": {},
   "outputs": [
    {
     "data": {
      "text/plain": [
       "{'B07KYV68P7': <Thread(Thread-44, stopped 123145341952000)>,\n",
       " 'B07FK96Y5T': <Thread(Thread-45, stopped 123145347207168)>,\n",
       " 'B07C3VSTHH': <Thread(Thread-46, stopped 123145352462336)>,\n",
       " 'B01B76LPUE': <Thread(Thread-47, stopped 123145357717504)>}"
      ]
     },
     "execution_count": 7,
     "metadata": {},
     "output_type": "execute_result"
    }
   ],
   "source": [
    "product_runner.t"
   ]
  },
  {
   "cell_type": "code",
   "execution_count": 8,
   "metadata": {},
   "outputs": [],
   "source": [
    "product_test  = processor.Product()\n",
    "product_test.set_args('B07Z5FTDSV')\n",
    "product_test.get_soup()"
   ]
  },
  {
   "cell_type": "code",
   "execution_count": null,
   "metadata": {},
   "outputs": [],
   "source": [
    "product_test.soup.find(text=processor.lib.like('ASIN'))"
   ]
  },
  {
   "cell_type": "code",
   "execution_count": 88,
   "metadata": {},
   "outputs": [
    {
     "data": {
      "text/plain": [
       "[{'amazon_id': 'B001KBYPIG',\n",
       "  'name': 'TETON Sports Scout 3400 Internal Frame Backpack; High-Performance Backpack for Backpacking, Hiking, Camping',\n",
       "  'price': '$49.98',\n",
       "  'is_sponsored': True},\n",
       " {'amazon_id': 'B01JYY7M5S',\n",
       "  'name': 'TETON Sports Explorer 4000 Internal Frame Backpack; High-Performance Backpack for Backpacking, Hiking, Camping',\n",
       "  'price': '$87.62',\n",
       "  'is_sponsored': True},\n",
       " {'amazon_id': 'B07FR2HF77',\n",
       "  'name': 'Hiking Backpack 50L Travel Camping Backpack with Rain Cover',\n",
       "  'price': '$46.99',\n",
       "  'is_sponsored': True},\n",
       " {'amazon_id': 'B000F34ZKS',\n",
       "  'name': 'TETON Sports Scout 3400 Internal Frame Backpack; High-Performance Backpack for Backpacking, Hiking, Camping',\n",
       "  'price': '$79.99',\n",
       "  'is_sponsored': True},\n",
       " {'amazon_id': 'B07FR2HF77',\n",
       "  'name': 'Hiking Backpack 50L Travel Camping Backpack with Rain Cover',\n",
       "  'price': '$46.99',\n",
       "  'is_sponsored': False},\n",
       " {'amazon_id': 'B001947FG8',\n",
       "  'name': 'TETON Sports Explorer 4000 Internal Frame Backpack; High-Performance Backpack for Backpacking, Hiking, Camping',\n",
       "  'price': '$84.99',\n",
       "  'is_sponsored': False},\n",
       " {'amazon_id': 'B071VS5BTJ',\n",
       "  'name': 'MOUNTAINTOP 28L/40L Hiking Backpack for Outdoor Camping',\n",
       "  'price': '$39.99',\n",
       "  'is_sponsored': False},\n",
       " {'amazon_id': 'B07DQKTWSM',\n",
       "  'name': 'OUTLIFE 60L Hiking Backpack, Lightweight Waterproof Travel Backpack for Men Women Camping Trekking Touring',\n",
       "  'price': '$48.99',\n",
       "  'is_sponsored': False},\n",
       " {'amazon_id': 'B07GHKJSWD',\n",
       "  'name': \"Osprey Packs Renn 65 Women's Backpacking Backpack\",\n",
       "  'price': None,\n",
       "  'is_sponsored': True},\n",
       " {'amazon_id': 'B07QLS3VC2',\n",
       "  'name': 'NEVO RHINO 50L Internal Frame Backpack,Ultralight waterproof Daypack for Hiking, Camping',\n",
       "  'price': '$52.99',\n",
       "  'is_sponsored': False},\n",
       " {'amazon_id': 'B07T1QQG4W',\n",
       "  'name': 'WintMing 70L Camping Hiking Backpack Molle Rucksack Waterproof Traveling Daypack',\n",
       "  'price': '$45.99',\n",
       "  'is_sponsored': False},\n",
       " {'amazon_id': 'B07VPMTZ5D',\n",
       "  'name': 'NEVO Rhino 60L 80L Internal Frame Hiking Backpack,Ultralight Daypack for Camping Backpacking',\n",
       "  'price': '$85.99',\n",
       "  'is_sponsored': False},\n",
       " {'amazon_id': 'B07GHQNYBX',\n",
       "  'name': \"Osprey Packs Rook 65 Men's Backpacking Backpack\",\n",
       "  'price': '$165.00',\n",
       "  'is_sponsored': True},\n",
       " {'amazon_id': 'B07FK96Y5T',\n",
       "  'name': 'Hiking Backpack 50L Waterproof Camping Backpack with Rain Cover for Travel',\n",
       "  'price': '$45.99',\n",
       "  'is_sponsored': False},\n",
       " {'amazon_id': 'B07GHQ4MCJ',\n",
       "  'name': \"Osprey Packs Rook 50 Men's Backpacking Backpack\",\n",
       "  'price': '$154.95',\n",
       "  'is_sponsored': False},\n",
       " {'amazon_id': 'B078H6Z3C4',\n",
       "  'name': '60L Waterproof Lightweight Hiking Backpack with Rain Cover,Outdoor Sport Travel Daypack for Climbing Camping Touring',\n",
       "  'price': '$38.99',\n",
       "  'is_sponsored': False},\n",
       " {'amazon_id': 'B07CY67PJL',\n",
       "  'name': 'Mardingtop 50L/60L/75L Molle Hiking Internal Frame Backpacks with Rain Cover',\n",
       "  'price': '$79.99',\n",
       "  'is_sponsored': False},\n",
       " {'amazon_id': 'B07TBDJR4L',\n",
       "  'name': 'Gonex 55L / 65L Hiking Internal Frame Backpack Backpacking Camping Trekking Climbing for Men Women',\n",
       "  'price': None,\n",
       "  'is_sponsored': True},\n",
       " {'amazon_id': 'B07PJPRP4L',\n",
       "  'name': 'NACATIN Internal Frame 70L Backpack Water-Resistant Hiking Daypack Backpacks',\n",
       "  'price': '$49.99',\n",
       "  'is_sponsored': False},\n",
       " {'amazon_id': 'B081H1L4V2',\n",
       "  'name': 'NEVO Rhino 40L Internal Frame Hiking Backpack, Waterproof Camping Backpacking Daypack',\n",
       "  'price': '$49.99',\n",
       "  'is_sponsored': True},\n",
       " {'amazon_id': 'B07C3VSTHH',\n",
       "  'name': 'PANS Backpack Large Military Expandable Travel Backpack Tactical Waterproof Hiking Backpack for Men',\n",
       "  'price': '$37.99',\n",
       "  'is_sponsored': True},\n",
       " {'amazon_id': 'B07TZ3YQJV',\n",
       "  'name': 'MOUNTAINTOP 50L/60L Hiking Backpack with Rain Cover',\n",
       "  'price': '$53.99',\n",
       "  'is_sponsored': True},\n",
       " {'amazon_id': 'B07PNLS7HX',\n",
       "  'name': 'MIER Outdoor Ultralight Waterproof Tent Tarp Windproof Hammock Rain Fly Ripstop Backpacking Camping Shelter, 6 Stakes and 8 Ropes Included',\n",
       "  'price': '$49.99',\n",
       "  'is_sponsored': True},\n",
       " {'amazon_id': 'B01MT97WUV',\n",
       "  'name': 'MOUNTAINTOP 55L/80L Hiking Backpack with Rain Cover',\n",
       "  'price': '$85.99',\n",
       "  'is_sponsored': False},\n",
       " {'amazon_id': 'B01B76LPUE',\n",
       "  'name': 'MOUNTAINTOP 55L/65L Internal Frame Backpack Hiking Backpack with Rain Cover',\n",
       "  'price': '$65.99',\n",
       "  'is_sponsored': False},\n",
       " {'amazon_id': 'B016ZXEDCQ',\n",
       "  'name': 'Teton Sports Ultralight Plus Backpacks; Lightweight Hiking Backpack for Camping, Hunting, Travel, and Outdoor Sports',\n",
       "  'price': '$122.14',\n",
       "  'is_sponsored': True},\n",
       " {'amazon_id': 'B01CG1J25E',\n",
       "  'name': 'Travelon Anti-Theft Heritage Backpack Multipurpose',\n",
       "  'price': None,\n",
       "  'is_sponsored': True},\n",
       " {'amazon_id': 'B07TBHHF37',\n",
       "  'name': 'Kelty Redwing 50 Backpack',\n",
       "  'price': '$99.00',\n",
       "  'is_sponsored': False},\n",
       " {'amazon_id': 'B07S74DMGN',\n",
       "  'name': 'Gonex 65L/75L Hiking Internal Frame Backpack for Backpacking Camping Mountaineering for Men Women',\n",
       "  'price': None,\n",
       "  'is_sponsored': True},\n",
       " {'amazon_id': 'B06Y5M3D4P',\n",
       "  'name': 'AmazonBasics Internal Frame Hiking Backpack with Rainfly',\n",
       "  'price': '$49.32',\n",
       "  'is_sponsored': True},\n",
       " {'amazon_id': 'B01IJK34WS',\n",
       "  'name': \"Osprey Packs Aether AG 60 Men's Backpacking Backpack\",\n",
       "  'price': None,\n",
       "  'is_sponsored': True},\n",
       " {'amazon_id': 'B07GH7NGJH',\n",
       "  'name': \"Osprey Packs Kyte 46 Women's Backpacking Backpack\",\n",
       "  'price': '$179.95',\n",
       "  'is_sponsored': False},\n",
       " {'amazon_id': 'B07JLM94X1',\n",
       "  'name': \"Osprey Packs Volt 60 Men's Backpacking Backpack\",\n",
       "  'price': '$199.95',\n",
       "  'is_sponsored': False},\n",
       " {'amazon_id': 'B006JYHHL6',\n",
       "  'name': 'Teton Sports Ultralight Backpacks; Lightweight, Durable, Internal-Frame Backpack for Hiking, Backpacking, Travel and Camping; Not Your Basic Backpack',\n",
       "  'price': '$84.99',\n",
       "  'is_sponsored': True},\n",
       " {'amazon_id': 'B01J24H2K0',\n",
       "  'name': 'AmazonBasics Carry On Travel Backpack - Black',\n",
       "  'price': '$49.99',\n",
       "  'is_sponsored': True},\n",
       " {'amazon_id': 'B06XY12MVM',\n",
       "  'name': 'Bestorno Hiking Backpack',\n",
       "  'price': '$46.99',\n",
       "  'is_sponsored': False},\n",
       " {'amazon_id': 'B06Y2WFCWB',\n",
       "  'name': 'Mardingtop 65+10L/65L Molle Hiking Internal Frame Backpacks with Rain Cover',\n",
       "  'price': '$99.99',\n",
       "  'is_sponsored': False},\n",
       " {'amazon_id': 'B01DZK68IO',\n",
       "  'name': 'WASING 55L Internal Frame Backpack Hiking Travel Climbing Camping with Rain Cover',\n",
       "  'price': '$49.99',\n",
       "  'is_sponsored': False},\n",
       " {'amazon_id': 'B07BDLPQRN',\n",
       "  'name': 'Mooedcoe 75L Internal Frame Hiking Backpack for Outdoor Camping Travel Backpacking Backpack for Men',\n",
       "  'price': '$52.99',\n",
       "  'is_sponsored': False},\n",
       " {'amazon_id': 'B07NSRQBD2',\n",
       "  'name': 'Ubon Ventilated Hiking Backpack 50L Supportive Straps Camping Backpack with Rain Cover',\n",
       "  'price': '$75.99',\n",
       "  'is_sponsored': False},\n",
       " {'amazon_id': '1440579776',\n",
       "  'name': 'Bushcraft 101: A Field Guide to the Art of Wilderness Survival',\n",
       "  'price': '$11.46',\n",
       "  'is_sponsored': True},\n",
       " {'amazon_id': 'B00M453AS8',\n",
       "  'name': 'Osprey Unisex Ace 75',\n",
       "  'price': None,\n",
       "  'is_sponsored': True},\n",
       " {'amazon_id': 'B014JQIHNW',\n",
       "  'name': 'Kelty Coyote 80 Backpack',\n",
       "  'price': '$139.98',\n",
       "  'is_sponsored': True},\n",
       " {'amazon_id': 'B07LC764WS',\n",
       "  'name': 'The North Face Terra 40, TNF Dark Grey Heather/New Taupe Green, Small/Medium',\n",
       "  'price': None,\n",
       "  'is_sponsored': True},\n",
       " {'amazon_id': 'B07S72XK6T',\n",
       "  'name': 'Gonex 55L Hiking Internal Frame Backpack Outdoor Backpacking Camping Trekking Climbing Backpack with Rain Cover for Men Women',\n",
       "  'price': None,\n",
       "  'is_sponsored': True},\n",
       " {'amazon_id': 'B00HA3EMBI',\n",
       "  'name': 'High Sierra Appalachian 75 Backpacking Pack',\n",
       "  'price': '$121.99',\n",
       "  'is_sponsored': True},\n",
       " {'amazon_id': 'B081HZQ5QC',\n",
       "  'name': 'Secret Life of the Hospital Bed',\n",
       "  'price': None,\n",
       "  'is_sponsored': False},\n",
       " {'amazon_id': 'B01IQI7YL0',\n",
       "  'name': \"Osprey Packs Stratos 50 Men's Backpacking Backpack\",\n",
       "  'price': '$189.95',\n",
       "  'is_sponsored': False},\n",
       " {'amazon_id': 'B07D6NXVG1',\n",
       "  'name': 'Mooedcoe Hiking Backpack, 95L Waterproof Backpack Internal Frame Hiking Backpack for Men',\n",
       "  'price': '$60.99',\n",
       "  'is_sponsored': False},\n",
       " {'amazon_id': 'B07MLVP28C',\n",
       "  'name': 'The North Face Women’s Terra 40, High Rise Grey/Mid Grey, X-Small/Small',\n",
       "  'price': '$149.95',\n",
       "  'is_sponsored': True},\n",
       " {'amazon_id': 'B07S72SMCK',\n",
       "  'name': 'Gonex Packable Travel Backpack 45L Foldable Lightweight Daypack for Hiking Climbing Camping Backpacking Cycling for Men Women',\n",
       "  'price': None,\n",
       "  'is_sponsored': True},\n",
       " {'amazon_id': 'B077H252N3',\n",
       "  'name': \"Osprey Packs Atmos AG 65 Men's Backpacking Backpack\",\n",
       "  'price': '$269.95',\n",
       "  'is_sponsored': False},\n",
       " {'amazon_id': 'B006JYHGM6',\n",
       "  'name': 'TETON Sports Adventure Backpacks; Lightweight, Durable Daypacks for Hiking, Travel and Camping: Not Your Basic Backpack',\n",
       "  'price': '$59.99',\n",
       "  'is_sponsored': False},\n",
       " {'amazon_id': 'B01IJK1N6C',\n",
       "  'name': \"Osprey Packs Aether AG 70 Men's Backpacking Backpack\",\n",
       "  'price': None,\n",
       "  'is_sponsored': True},\n",
       " {'amazon_id': 'B07GHWSHVH',\n",
       "  'name': \"Osprey Packs Renn 50 Women's Backpacking Backpack\",\n",
       "  'price': '$154.95',\n",
       "  'is_sponsored': False},\n",
       " {'amazon_id': 'B01IG0ULDQ',\n",
       "  'name': 'Outdoor 3 Day Expandable 40-64L Backpack Military Tactical Hiking Bug Out Bag',\n",
       "  'price': '$37.99',\n",
       "  'is_sponsored': True},\n",
       " {'amazon_id': 'B07SQGV3GV',\n",
       "  'name': 'Jaylife13 Lightweight Waterproof Backpack for Camping, Hiking, Backpacking, and Travel',\n",
       "  'price': '$74.99',\n",
       "  'is_sponsored': True},\n",
       " {'amazon_id': 'B014JQ9W4A',\n",
       "  'name': 'Kelty Redwing 32 Backpack',\n",
       "  'price': '$70.71',\n",
       "  'is_sponsored': True},\n",
       " {'amazon_id': 'B078WGF62Z',\n",
       "  'name': 'Kelty Journey PerfectFIT Signature Series Child Carrier',\n",
       "  'price': '$259.95',\n",
       "  'is_sponsored': True},\n",
       " {'amazon_id': 'B01A4ZXYYE',\n",
       "  'name': 'Rainleaf Microfiber Towel Perfect Travel & Sports &Beach Towel. Fast Drying - Super Absorbent - Ultra Compact. Suitable for Camping, Backpacking,Gym, Beach, Swimming,Yoga',\n",
       "  'price': '$10.99',\n",
       "  'is_sponsored': True}]"
      ]
     },
     "execution_count": 88,
     "metadata": {},
     "output_type": "execute_result"
    }
   ],
   "source": [
    "search_test  = processor.Search()\n",
    "search_test.set_args(1, 'backpacking+backpack')\n",
    "#search_test.get_info()"
   ]
  },
  {
   "cell_type": "code",
   "execution_count": null,
   "metadata": {},
   "outputs": [],
   "source": []
  }
 ],
 "metadata": {
  "kernelspec": {
   "display_name": "Python 3",
   "language": "python",
   "name": "python3"
  },
  "language_info": {
   "codemirror_mode": {
    "name": "ipython",
    "version": 3
   },
   "file_extension": ".py",
   "mimetype": "text/x-python",
   "name": "python",
   "nbconvert_exporter": "python",
   "pygments_lexer": "ipython3",
   "version": "3.7.4"
  }
 },
 "nbformat": 4,
 "nbformat_minor": 4
}
